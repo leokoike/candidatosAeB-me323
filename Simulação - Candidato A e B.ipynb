{
 "cells": [
  {
   "cell_type": "markdown",
   "metadata": {},
   "source": [
    "# Simulação de votos para os candidatos A e B\n",
    "## Leonardo Yukio Koike\n",
    "## RA:201332"
   ]
  },
  {
   "cell_type": "markdown",
   "metadata": {},
   "source": [
    "## Informações importantes\n",
    "#N = 10000\n",
    "#p = 0.30\n",
    "#Valores de n = 10 e 50\n"
   ]
  },
  {
   "cell_type": "code",
   "execution_count": 1,
   "metadata": {},
   "outputs": [],
   "source": [
    "import random\n",
    "import numpy as np\n",
    "import matplotlib.pyplot as plt\n",
    "import statistics\n",
    "%matplotlib inline\n",
    "N = 10000\n",
    "n1 = 10\n",
    "n2 = 50"
   ]
  },
  {
   "cell_type": "code",
   "execution_count": 2,
   "metadata": {},
   "outputs": [],
   "source": [
    "#Population é uma lista que de maneira aleátoria\n",
    "#representa a votação das pessoas seguindo a proporção dada.\n",
    "#Nela o candidato A assume valor 1 e o B, valor 0.\n",
    "population = list(np.random.\n",
    "                  choice(2,size=N,replace=True,p=[0.7,0.3]))"
   ]
  },
  {
   "cell_type": "code",
   "execution_count": 3,
   "metadata": {},
   "outputs": [],
   "source": [
    "#listas que contém os valores de p chapeu das amostras\n",
    "p_10 = []\n",
    "p_50 = []"
   ]
  },
  {
   "cell_type": "code",
   "execution_count": 4,
   "metadata": {},
   "outputs": [],
   "source": [
    "#repetição de 2000 vezes da proporção amostral dos n's\n",
    "for i in range(2000):\n",
    "    #amostra de n1=10 pessoas das 10000\n",
    "    a = random.sample(population,n1)\n",
    "    #calculo da proporção (p chapeu dessa amostra)\n",
    "    n_a = (a.count(1))/n1\n",
    "    #adiciona o valor do p chapeu a uma lista\n",
    "    p_10.append(n_a)\n",
    "    \n",
    "    #amostra de n2=50 pessoas da população de 10000\n",
    "    b = random.sample(population,n2)\n",
    "    #cálculo da proporção (p chapeu dessa amostra)\n",
    "    n_b = (b.count(1))/n2\n",
    "    #adiciona esse valor a uma lista\n",
    "    p_50.append(n_b)"
   ]
  },
  {
   "cell_type": "code",
   "execution_count": 5,
   "metadata": {},
   "outputs": [
    {
     "data": {
      "image/png": "[encoded data removed]",
      "text/plain": [
       "<Figure size 432x288 with 1 Axes>"
      ]
     },
     "metadata": {
      "needs_background": "light"
     },
     "output_type": "display_data"
    }
   ],
   "source": [
    "#mostra o historgrama da proporção amostral de n=10\n",
    "plt.hist(p_10,9)\n",
    "plt.show()"
   ]
  },
  {
   "cell_type": "code",
   "execution_count": 6,
   "metadata": {},
   "outputs": [],
   "source": [
    "pm_10 = statistics.mean(p_10)\n",
    "dp_10 = statistics.pstdev(p_10)"
   ]
  },
  {
   "cell_type": "code",
   "execution_count": 7,
   "metadata": {},
   "outputs": [
    {
     "name": "stdout",
     "output_type": "stream",
     "text": [
      "O valor médio de p chapéu de 10 pessoas é  0.30085\n",
      "Desvio padrão da amostra de 10 pessoas é  0.14364636264103592\n"
     ]
    }
   ],
   "source": [
    "print(\"O valor médio de p chapéu de 10 pessoas é \", pm_10)\n",
    "print(\"Desvio padrão da amostra de 10 pessoas é \", dp_10)"
   ]
  },
  {
   "cell_type": "code",
   "execution_count": 8,
   "metadata": {},
   "outputs": [
    {
     "data": {
      "image/png": "[encoded data removed]",
      "text/plain": [
       "<Figure size 432x288 with 1 Axes>"
      ]
     },
     "metadata": {
      "needs_background": "light"
     },
     "output_type": "display_data"
    }
   ],
   "source": [
    "#mostra o histograma da proporção amostral de n=50\n",
    "plt.hist(p_50,10)\n",
    "plt.show()"
   ]
  },
  {
   "cell_type": "code",
   "execution_count": 9,
   "metadata": {},
   "outputs": [],
   "source": [
    "pm_50 = statistics.mean(p_50)\n",
    "dp_50 = statistics.pstdev(p_50)"
   ]
  },
  {
   "cell_type": "code",
   "execution_count": 10,
   "metadata": {},
   "outputs": [
    {
     "name": "stdout",
     "output_type": "stream",
     "text": [
      "O valor médio de p chapéu de 50 pessoas é  0.29811\n",
      "Desvio padrão da amostra de 50 pessoas é  0.06612887342152443\n"
     ]
    }
   ],
   "source": [
    "print(\"O valor médio de p chapéu de 50 pessoas é \", pm_50)\n",
    "print(\"Desvio padrão da amostra de 50 pessoas é \", dp_50)"
   ]
  },
  {
   "cell_type": "markdown",
   "metadata": {},
   "source": [
    "Analisando os dois resultados, ambos têm um intervalo que contém o valor de 0.3 da proporção populacional.\n",
    "Podemos destacar que enquanto o intervalo da amostra de 50 pessoas foi do valor 0.23 até 0.36, o intervalo da amostra de 10 pessoas foi muito maior, de 0.16 até 0.44.\n",
    "Isso mostra a importância e as consequências de se ter uma quantidade maior no número de elementos em uma amostra."
   ]
  }
 ],
 "metadata": {
  "kernelspec": {
   "display_name": "Python 3",
   "language": "python",
   "name": "python3"
  },
  "language_info": {
   "codemirror_mode": {
    "name": "ipython",
    "version": 3
   },
   "file_extension": ".py",
   "mimetype": "text/x-python",
   "name": "python",
   "nbconvert_exporter": "python",
   "pygments_lexer": "ipython3",
   "version": "3.6.7"
  }
 },
 "nbformat": 4,
 "nbformat_minor": 2
}
